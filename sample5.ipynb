{
 "cells": [
  {
   "cell_type": "code",
   "execution_count": 60,
   "metadata": {},
   "outputs": [],
   "source": [
    "import dash\n",
    "from dash import dcc\n",
    "from dash import html\n",
    "from datetime import date as dt"
   ]
  },
  {
   "cell_type": "code",
   "execution_count": 2,
   "metadata": {},
   "outputs": [],
   "source": [
    "app = dash.Dash()"
   ]
  },
  {
   "cell_type": "code",
   "execution_count": 72,
   "metadata": {},
   "outputs": [],
   "source": [
    "app.layout = html.Div([\n",
    "    html.Label('Choose a city'),\n",
    "    html.Br(),\n",
    "    dcc.Dropdown(\n",
    "        id=\"first - dropdown\",\n",
    "        options = [\n",
    "            {'label':'San Francisco','value':'SF'},\n",
    "            {'label':'New York','value':'NY'},\n",
    "            {'label':'Raleigh Durhman','value':'ROU','disabled':'true'},\n",
    "        ],\n",
    "        #multi=True,\n",
    "        placeholder='Select a City'\n",
    "        #disabled=True\n",
    "    ),\n",
    "    html.Br(),\n",
    "    html.Label('This is a slider'),\n",
    "    dcc.Slider(\n",
    "        min = 1,\n",
    "        max=10,\n",
    "        value=5,\n",
    "        step = .5,\n",
    "        marks = {i: i for i in range(10) }\n",
    "    ),\n",
    "    html.Br(),\n",
    "    html.Label('This is a range slider'),\n",
    "    dcc.RangeSlider(\n",
    "        min = 1,\n",
    "        max = 10,\n",
    "        step = .5,\n",
    "        value = [3,7],\n",
    "        marks = {i: i for i in range(10)}\n",
    "    ),\n",
    "    html.Div([\n",
    "    html.Br(),\n",
    "    html.Label('This is input box'),\n",
    "    dcc.Input(\n",
    "        placeholder='Input your name',\n",
    "        type='text',\n",
    "        value=''\n",
    "    )\n",
    "    ]),\n",
    "    html.Br(),\n",
    "    dcc.Textarea(\n",
    "        placeholder='Input your Feedback',\n",
    "        style={\n",
    "            'width':'50%'\n",
    "        },\n",
    "        value='Agregando algo'\n",
    "    ),\n",
    "    html.Br(),\n",
    "    html.Button('Submit',id='submit-form'),\n",
    "    html.Br(),\n",
    "    dcc.Checklist(\n",
    "        options = [\n",
    "            {'label':'San Francisco','value':'SF'},\n",
    "            {'label':'New York','value':'NY'},\n",
    "            {'label':'Raleigh Durhman','value':'ROU'},\n",
    "        ],\n",
    "        value=['SF','NY']\n",
    "    ),\n",
    "    html.Br(),\n",
    "    dcc.RadioItems(\n",
    "        options = [\n",
    "            {'label':'San Francisco','value':'SF'},\n",
    "            {'label':'New York','value':'NY'},\n",
    "            {'label':'Raleigh Durhman','value':'ROU'},\n",
    "        ],\n",
    "        value='SF'\n",
    "    ),\n",
    "    html.Br(),\n",
    "    dcc.DatePickerSingle(\n",
    "        id='dt-pick-single',\n",
    "        date= dt(2023,10,10)\n",
    "    ),\n",
    "    html.Br(),\n",
    "    dcc.DatePickerRange(\n",
    "        id='dt-pick-range',\n",
    "        start_date = dt(2023,10,7),\n",
    "        end_date_placeholder_text = 'Select the end date'\n",
    "    ),\n",
    "    dcc.Markdown('''\n",
    "### Dash and Markdown\n",
    "Dash supports [Markdonw](https://commonmark.org/help).\n",
    "\n",
    "Mark is a simple way etc etc etc \n",
    "''')\n",
    "])"
   ]
  },
  {
   "cell_type": "code",
   "execution_count": 73,
   "metadata": {},
   "outputs": [
    {
     "data": {
      "text/html": [
       "\n",
       "        <iframe\n",
       "            width=\"100%\"\n",
       "            height=\"650\"\n",
       "            src=\"http://127.0.0.1:4050/\"\n",
       "            frameborder=\"0\"\n",
       "            allowfullscreen\n",
       "            \n",
       "        ></iframe>\n",
       "        "
      ],
      "text/plain": [
       "<IPython.lib.display.IFrame at 0x1f60d7f0050>"
      ]
     },
     "metadata": {},
     "output_type": "display_data"
    }
   ],
   "source": [
    "if __name__ == '__main__':\n",
    "    app.run_server(port=4050)"
   ]
  }
 ],
 "metadata": {
  "kernelspec": {
   "display_name": "venv",
   "language": "python",
   "name": "python3"
  },
  "language_info": {
   "codemirror_mode": {
    "name": "ipython",
    "version": 3
   },
   "file_extension": ".py",
   "mimetype": "text/x-python",
   "name": "python",
   "nbconvert_exporter": "python",
   "pygments_lexer": "ipython3",
   "version": "3.11.6"
  }
 },
 "nbformat": 4,
 "nbformat_minor": 2
}
